{
 "cells": [
  {
   "attachments": {},
   "cell_type": "markdown",
   "metadata": {},
   "source": [
    "# Assignment 4"
   ]
  },
  {
   "cell_type": "code",
   "execution_count": 7,
   "metadata": {},
   "outputs": [],
   "source": [
    "# my library \n",
    "# pip install mjzy\n",
    "# pip install mjzy==0.3.9\n",
    "from mjzy import covarience_matrix,portfolio,simulation,Var,MLE"
   ]
  },
  {
   "cell_type": "code",
   "execution_count": 19,
   "metadata": {},
   "outputs": [],
   "source": [
    "import pandas as pd\n",
    "import numpy as np\n",
    "from scipy.stats import norm, t\n",
    "import scipy.stats as st\n",
    "from scipy.optimize import minimize \n",
    "import seaborn as sns\n",
    "import matplotlib.pyplot as plt\n",
    "import warnings\n",
    "warnings.filterwarnings(\"ignore\")"
   ]
  },
  {
   "attachments": {},
   "cell_type": "markdown",
   "metadata": {},
   "source": [
    "### Problem1\n",
    "Use the data in problem1.csv.  Fit a Normal Distribution and a Generalized T distribution to this data. \n",
    "Calculate the VaR and ES for both fitted distributions"
   ]
  },
  {
   "cell_type": "code",
   "execution_count": 3,
   "metadata": {},
   "outputs": [
    {
     "name": "stdout",
     "output_type": "stream",
     "text": [
      "            x\n",
      "0   -0.002665\n",
      "1   -0.045128\n",
      "2    0.053635\n",
      "3    0.010450\n",
      "4   -0.016284\n",
      "..        ...\n",
      "495  0.009279\n",
      "496 -0.001121\n",
      "497  0.075188\n",
      "498  0.038520\n",
      "499 -0.033949\n",
      "\n",
      "[500 rows x 1 columns]\n"
     ]
    }
   ],
   "source": [
    "data = pd.read_csv('problem1.csv')\n",
    "print(data)"
   ]
  },
  {
   "cell_type": "code",
   "execution_count": 17,
   "metadata": {},
   "outputs": [
    {
     "data": {
      "text/plain": [
       "(0.08168081506578885,\n",
       " 0.10162294787110752,\n",
       " array([-0.18695028, -0.1617794 , -0.1610811 , ...,  0.18990633,\n",
       "         0.19323343,  0.20628997]))"
      ]
     },
     "execution_count": 17,
     "metadata": {},
     "output_type": "execute_result"
    }
   ],
   "source": [
    "\n",
    "def cal_VaR_ES_normal(data, nSim=10000, alpha=0.05):\n",
    "\n",
    "    mu = data.mean().values\n",
    "    sigma = np.std(data).values\n",
    "    simu_return = np.random.normal(mu, sigma, nSim)\n",
    "    simu_return.sort()\n",
    "\n",
    "    # Calculate the index of the value at risk at the confidence level alpha\n",
    "    n = int(alpha * len(simu_return))\n",
    "\n",
    "    # Calculate the indices of the upper and lower values at risk\n",
    "    iup = int(np.ceil(n))\n",
    "    idn = int(np.floor(n))\n",
    "\n",
    "    # Calculate the Value at Risk (VaR) as the average of the upper and lower values\n",
    "    VaR = -(simu_return[iup] + simu_return[idn])/2\n",
    "\n",
    "    # Calculate the Expected Shortfall (ES) as the average of all returns below the lower value at risk\n",
    "    ES = -np.mean(simu_return[0:idn])\n",
    "\n",
    "    return VaR, ES, simu_return\n",
    "\n",
    "\n",
    "cal_VaR_ES_normal(data)\n"
   ]
  },
  {
   "cell_type": "code",
   "execution_count": 19,
   "metadata": {},
   "outputs": [],
   "source": [
    "# library function\n",
    "normal_var,normal_es,normal_simu=Var.noramal_VaR_ES(data)"
   ]
  },
  {
   "cell_type": "code",
   "execution_count": 54,
   "metadata": {},
   "outputs": [
    {
     "data": {
      "text/plain": [
       "(0.07559610356471451,\n",
       " 0.11145002383809925,\n",
       " array([ 0.00142757, -0.01165102,  0.06161981, ...,  0.02214431,\n",
       "         0.04153204,  0.00017261]))"
      ]
     },
     "execution_count": 54,
     "metadata": {},
     "output_type": "execute_result"
    }
   ],
   "source": [
    "# MLE fitted T distribution\n",
    "def cal_VaR_ES_T(data, alpha = 0.05,size=10000):\n",
    "\n",
    "    t_df, t_m, t_s = st.t.fit(data)\n",
    "    t = st.t.rvs(df = t_df, loc = t_m, scale = t_s, size=size)\n",
    "    tsim = pd.DataFrame({\"tsim\": t})\n",
    "    VaR_T = -st.t.ppf(alpha, df = t_df, loc = t_m, scale = t_s)\n",
    "    temp = tsim[tsim <= -VaR_T].dropna()\n",
    "    ES_T = -temp.mean().values\n",
    "    return VaR_T, ES_T[0] ,t\n",
    "\n",
    "cal_VaR_ES_T(data)\n"
   ]
  },
  {
   "cell_type": "code",
   "execution_count": 20,
   "metadata": {},
   "outputs": [],
   "source": [
    "# library function\n",
    "t_var,t_es,t_simu=Var.t_VaR_ES(data)"
   ]
  },
  {
   "cell_type": "code",
   "execution_count": 34,
   "metadata": {},
   "outputs": [
    {
     "data": {
      "image/png": "[encoded data removed]",
      "text/plain": [
       "<Figure size 640x480 with 1 Axes>"
      ]
     },
     "metadata": {},
     "output_type": "display_data"
    }
   ],
   "source": [
    "# plot\n",
    "sns.histplot(data, bins=80,alpha=0.5,stat='density')\n",
    "sns.kdeplot(t_simu,color=\"red\",label=\"T\")\n",
    "sns.kdeplot(normal_simu,color=\"b\",label=\"Normal\")\n",
    "\n",
    "plt.axvline(-t_es,color='red',linestyle='--')\n",
    "plt.axvline(-t_var,color='red',linestyle='-')\n",
    "\n",
    "plt.axvline(-normal_es,color='b',linestyle='--')\n",
    "plt.axvline(-normal_var,color='b',linestyle='-')\n",
    "\n",
    "plt.title('T Normal')\n",
    "\n",
    "plt.xlim(-0.4, 0.4)\n",
    "plt.legend()\n",
    "plt.show()"
   ]
  },
  {
   "attachments": {},
   "cell_type": "markdown",
   "metadata": {},
   "source": [
    "### Problem2\n",
    "In your main repository, create a Library for risk management.   Create modules, classes, packages, etc \n",
    "as you see fit.  Include all the functionality we have discussed so far in class.  Make sure it includes\n",
    "1. Covariance estimation techniques.\n",
    "2. Non PSD fixes for correlation matrices\n",
    "3. Simulation Methods\n",
    "4. VaR calculation methods (all discussed)\n",
    "5. ES calculation\n",
    "Create a test suite and show that each function performs as expected."
   ]
  },
  {
   "cell_type": "code",
   "execution_count": 3,
   "metadata": {},
   "outputs": [
    {
     "name": "stderr",
     "output_type": "stream",
     "text": [
      "/Library/Frameworks/Python.framework/Versions/3.10/lib/python3.10/site-packages/mjzy/portfolio.py:67: PerformanceWarning: DataFrame is highly fragmented.  This is usually the result of calling `frame.insert` many times, which has poor performance.  Consider joining all columns at once using pd.concat(axis=1) instead. To get a de-fragmented frame, use `newframe = frame.copy()`\n",
      "  prices_da[col_new[i]] = price_return[:,i]\n"
     ]
    }
   ],
   "source": [
    "b = pd.read_csv(\"DailyPrices.csv\")\n",
    "returns = portfolio.return_calculate(b)\n",
    "returns.drop('Date', axis=1, inplace=True)"
   ]
  },
  {
   "cell_type": "code",
   "execution_count": 39,
   "metadata": {},
   "outputs": [
    {
     "name": "stdout",
     "output_type": "stream",
     "text": [
      "[[1.     0.7357 0.9    ... 0.9    0.9    0.9   ]\n",
      " [0.7357 1.     0.9    ... 0.9    0.9    0.9   ]\n",
      " [0.9    0.9    1.     ... 0.9    0.9    0.9   ]\n",
      " ...\n",
      " [0.9    0.9    0.9    ... 1.     0.9    0.9   ]\n",
      " [0.9    0.9    0.9    ... 0.9    1.     0.9   ]\n",
      " [0.9    0.9    0.9    ... 0.9    0.9    1.    ]]\n"
     ]
    }
   ],
   "source": [
    "# build non-PSD\n",
    "n = 500\n",
    "non_PSD = np.full((n,n),0.9)\n",
    "for i in range(n):\n",
    "    non_PSD[i,i]=1.0\n",
    "non_PSD[0,1] = 0.7357\n",
    "non_PSD[1,0] = 0.7357\n",
    "print(non_PSD)"
   ]
  },
  {
   "cell_type": "code",
   "execution_count": 40,
   "metadata": {},
   "outputs": [],
   "source": [
    "# check if functions fix non_psd\n",
    "\n",
    "def check_psd(matrix):\n",
    "    eigenvalues = np.linalg.eigh(matrix)[0]\n",
    "    return np.all(eigenvalues >= -1e-8)"
   ]
  },
  {
   "cell_type": "code",
   "execution_count": 41,
   "metadata": {},
   "outputs": [
    {
     "data": {
      "text/plain": [
       "True"
      ]
     },
     "execution_count": 41,
     "metadata": {},
     "output_type": "execute_result"
    }
   ],
   "source": [
    "c = covarience_matrix.Higham_near_psd(non_PSD)\n",
    "check_psd(c)"
   ]
  },
  {
   "cell_type": "code",
   "execution_count": 43,
   "metadata": {},
   "outputs": [
    {
     "data": {
      "text/plain": [
       "True"
      ]
     },
     "execution_count": 43,
     "metadata": {},
     "output_type": "execute_result"
    }
   ],
   "source": [
    "d = covarience_matrix.near_psd(non_PSD)\n",
    "check_psd(d)"
   ]
  },
  {
   "cell_type": "code",
   "execution_count": 4,
   "metadata": {},
   "outputs": [],
   "source": [
    "portfolio_data = pd.read_csv(\"portfolio.csv\")\n",
    "prices = pd.read_csv(\"DailyPrices.csv\")\n"
   ]
  },
  {
   "cell_type": "code",
   "execution_count": 6,
   "metadata": {},
   "outputs": [
    {
     "data": {
      "text/plain": [
       "(array([299950.05907389]),\n",
       "                Date        AAPL        TSLA         JPM          HD  \\\n",
       " 0    2/14/2022 0:00  167.863144  291.920013  147.619888  342.932312   \n",
       " 1    2/15/2022 0:00  171.749573  307.476654  149.778656  344.590576   \n",
       " 2    2/16/2022 0:00  171.511032  307.796661  150.049713  341.498352   \n",
       " 3    2/17/2022 0:00  167.863144  292.116669  146.593735  339.401123   \n",
       " 4    2/18/2022 0:00  166.292648  285.660004  147.281052  338.357391   \n",
       " ..              ...         ...         ...         ...         ...   \n",
       " 244   2/3/2023 0:00  154.264465  189.979996  141.089996  331.500000   \n",
       " 245   2/6/2023 0:00  151.498688  194.759995  141.919998  329.269989   \n",
       " 246   2/7/2023 0:00  154.414230  196.809998  143.649994  325.200012   \n",
       " 247   2/8/2023 0:00  151.688400  201.289993  142.639999  320.790008   \n",
       " 248   2/9/2023 0:00  150.639999  207.320007  140.419998  315.549988   \n",
       " \n",
       "            BAC         XOM        AVGO         PEP         TMO  ...  \\\n",
       " 0    46.340988   76.808563  560.551880  162.356186  559.952576  ...   \n",
       " 1    46.702568   75.845779  583.988159  161.635452  555.442566  ...   \n",
       " 2    46.595070   76.195877  578.601440  161.966614  549.136475  ...   \n",
       " 3    45.021709   76.079193  560.958801  162.404877  539.348022  ...   \n",
       " 4    44.914211   75.233109  561.917969  163.339874  535.955688  ...   \n",
       " ..         ...         ...         ...         ...         ...  ...   \n",
       " 244  36.430000  111.919998  597.619995  169.119995  587.760010  ...   \n",
       " 245  36.369999  111.730003  601.299988  171.820007  576.169983  ...   \n",
       " 246  36.770000  114.919998  614.450012  171.559998  583.150024  ...   \n",
       " 247  36.500000  113.919998  601.710022  171.160004  579.229981  ...   \n",
       " 248  35.720001  114.349998  599.409973  172.779999  568.929993  ...   \n",
       " \n",
       "            SBUX         GE        ISRG         MU         NOW         ADP  \\\n",
       " 0     91.481377  75.086494  281.140015  89.170525  579.580017  198.207108   \n",
       " 1     92.321449  78.444397  289.309998  95.263412  591.659973  200.209030   \n",
       " 2     92.975937  78.825272  291.140015  95.322952  590.890015  200.424912   \n",
       " 3     90.895264  76.532257  284.079987  93.010841  565.750000  196.715530   \n",
       " 4     91.178543  72.047279  280.779999  90.103310  556.010010  196.705719   \n",
       " ..          ...        ...         ...        ...         ...         ...   \n",
       " 244  103.779976  81.959999  254.679993  62.410000  472.220001  225.309998   \n",
       " 245  104.496384  82.349998  248.979996  59.980000  455.220001  223.470001   \n",
       " 246  106.297363  82.110001  253.059998  62.130001  463.260010  226.770004   \n",
       " 247  105.770004  81.959999  248.850006  60.250000  463.980011  223.979996   \n",
       " 248  106.050003  80.790001  244.179993  60.180000  463.299988  223.910004   \n",
       " \n",
       "             PNC         ADI         SYK        TJX  \n",
       " 0    197.263107  151.118790  247.324020  66.789505  \n",
       " 1    199.789520  159.029022  255.490829  67.673614  \n",
       " 2    201.139511  165.211960  256.349976  65.915215  \n",
       " 3    194.109894  157.448944  248.439911  64.019295  \n",
       " 4    193.984528  157.380234  245.042847  64.981995  \n",
       " ..          ...         ...         ...        ...  \n",
       " 244  165.389999  178.820007  283.140015  80.222557  \n",
       " 245  163.000000  177.550003  271.480011  79.853935  \n",
       " 246  162.940002  181.020004  272.450012  79.565002  \n",
       " 247  161.559998  177.759995  268.220001  80.309998  \n",
       " 248  158.880005  178.520004  264.359985  80.760002  \n",
       " \n",
       " [249 rows x 36 columns],\n",
       " 0      58\n",
       " 1      10\n",
       " 2      64\n",
       " 3      27\n",
       " 4     209\n",
       " 5     140\n",
       " 6      17\n",
       " 7      57\n",
       " 8      17\n",
       " 9     194\n",
       " 10     33\n",
       " 11     29\n",
       " 12    180\n",
       " 13     57\n",
       " 14    123\n",
       " 15    368\n",
       " 16     42\n",
       " 17    121\n",
       " 18     74\n",
       " 19     19\n",
       " 20    102\n",
       " 21     60\n",
       " 22     95\n",
       " 23     27\n",
       " 24     45\n",
       " 25    100\n",
       " 26     97\n",
       " 27     33\n",
       " 28    103\n",
       " 29     19\n",
       " 30     44\n",
       " 31     46\n",
       " 32     59\n",
       " 33     38\n",
       " 34    141\n",
       " Name: Holding, dtype: int64)"
      ]
     },
     "execution_count": 6,
     "metadata": {},
     "output_type": "execute_result"
    }
   ],
   "source": [
    "portfolio.cal_porfolio_price(portfolio_data,prices,portfolio_='A')"
   ]
  },
  {
   "cell_type": "code",
   "execution_count": 44,
   "metadata": {},
   "outputs": [
    {
     "data": {
      "text/plain": [
       "(864378.48041924, 13577.077108381169)"
      ]
     },
     "execution_count": 44,
     "metadata": {},
     "output_type": "execute_result"
    }
   ],
   "source": [
    "Var.Delta_Normal_VaR(portfolio_data,prices,portfolio_='All')"
   ]
  },
  {
   "cell_type": "code",
   "execution_count": 45,
   "metadata": {},
   "outputs": [
    {
     "data": {
      "text/plain": [
       "(array([864378.48041924]),\n",
       "                Date        AAPL        ABBV         ABT         ACN  \\\n",
       " 0    2/14/2022 0:00  167.863144  137.756256  120.633438  321.260742   \n",
       " 1    2/15/2022 0:00  171.749573  139.451721  121.812462  324.491760   \n",
       " 2    2/16/2022 0:00  171.511032  140.521042  121.517708  328.737427   \n",
       " 3    2/17/2022 0:00  167.863144  139.654022  118.471909  318.088837   \n",
       " 4    2/18/2022 0:00  166.292648  138.748505  114.748161  316.384644   \n",
       " ..              ...         ...         ...         ...         ...   \n",
       " 244   2/3/2023 0:00  154.264465  145.199997  111.790001  289.220001   \n",
       " 245   2/6/2023 0:00  151.498688  145.020004  110.750000  284.480011   \n",
       " 246   2/7/2023 0:00  154.414230  145.139999  111.989998  287.820007   \n",
       " 247   2/8/2023 0:00  151.688400  144.610001  110.199997  284.709992   \n",
       " 248   2/9/2023 0:00  150.639999  148.699997  108.070000  285.160004   \n",
       " \n",
       "            ADBE         ADI         ADP        AMAT         AMD  ...  \\\n",
       " 0    474.010010  151.118790  198.207108  130.648590  114.269997  ...   \n",
       " 1    479.500000  159.029022  200.209030  138.555252  121.470001  ...   \n",
       " 2    477.700012  165.211960  200.424912  139.664978  117.690002  ...   \n",
       " 3    457.709992  157.448944  196.715530  135.216232  112.370003  ...   \n",
       " 4    442.559998  157.380234  196.705719  132.124908  113.830002  ...   \n",
       " ..          ...         ...         ...         ...         ...  ...   \n",
       " 244  379.329987  178.820007  225.309998  119.980003   86.089996  ...   \n",
       " 245  375.230011  177.550003  223.470001  117.690002   83.680000  ...   \n",
       " 246  383.820007  181.020004  226.770004  120.519997   85.910004  ...   \n",
       " 247  378.359985  177.759995  223.979996  115.949997   84.690002  ...   \n",
       " 248  375.809998  178.520004  223.910004  116.080002   83.209999  ...   \n",
       " \n",
       "             TXN         UNH         UNP         UPS           V         VZ  \\\n",
       " 0    157.923248  468.401306  237.146606  207.134995  223.574204  50.322716   \n",
       " 1    161.519714  472.182922  243.765808  210.300232  226.034775  50.407738   \n",
       " 2    163.531769  473.979858  248.155762  208.412704  227.026916  50.445526   \n",
       " 3    160.042236  464.392670  245.398605  203.960052  222.849899  50.615566   \n",
       " 4    162.073746  461.894623  245.594147  204.125809  220.944962  50.851734   \n",
       " ..          ...         ...         ...         ...         ...        ...   \n",
       " 244  182.289993  472.019989  210.289993  191.660004  229.680145  41.509998   \n",
       " 245  181.000000  475.239990  208.960007  188.759995  228.991501  41.279999   \n",
       " 246  183.490005  476.880005  209.039993  188.289993  230.867828  40.549999   \n",
       " 247  176.500000  483.220001  207.139999  186.360001  229.750000  40.520000   \n",
       " 248  174.990005  485.730011  202.809998  184.750000  229.350006  39.810001   \n",
       " \n",
       "            WFC         WMT         XOM         ZTS  \n",
       " 0    56.416641  131.876984   76.808563  194.854614  \n",
       " 1    56.933510  132.290482   75.845779  196.173935  \n",
       " 2    56.699455  131.463486   76.195877  193.525360  \n",
       " 3    54.758766  136.730698   76.079193  191.521576  \n",
       " 4    54.251648  135.854462   75.233109  189.785614  \n",
       " ..         ...         ...         ...         ...  \n",
       " 244  47.580002  141.710007  111.919998  167.800003  \n",
       " 245  47.680000  140.679993  111.730003  164.929993  \n",
       " 246  48.130001  140.979996  114.919998  165.570007  \n",
       " 247  48.250000  140.220001  113.919998  162.070007  \n",
       " 248  47.570000  141.520004  114.349998  160.809998  \n",
       " \n",
       " [249 rows x 100 columns],\n",
       " 0      58\n",
       " 1      74\n",
       " 2      79\n",
       " 3      29\n",
       " 4      20\n",
       "      ... \n",
       " 94    188\n",
       " 95    173\n",
       " 96     69\n",
       " 97    140\n",
       " 98     49\n",
       " Name: Holding, Length: 99, dtype: int64)"
      ]
     },
     "execution_count": 45,
     "metadata": {},
     "output_type": "execute_result"
    }
   ],
   "source": [
    "portfolio.cal_porfolio_price(portfolio_data,prices,portfolio_=\"All\")"
   ]
  },
  {
   "cell_type": "code",
   "execution_count": 31,
   "metadata": {},
   "outputs": [
    {
     "data": {
      "text/plain": [
       "(array([864378.48041924]),\n",
       "                Date        AAPL        ABBV         ABT         ACN  \\\n",
       " 0    2/14/2022 0:00  167.863144  137.756256  120.633438  321.260742   \n",
       " 1    2/15/2022 0:00  171.749573  139.451721  121.812462  324.491760   \n",
       " 2    2/16/2022 0:00  171.511032  140.521042  121.517708  328.737427   \n",
       " 3    2/17/2022 0:00  167.863144  139.654022  118.471909  318.088837   \n",
       " 4    2/18/2022 0:00  166.292648  138.748505  114.748161  316.384644   \n",
       " ..              ...         ...         ...         ...         ...   \n",
       " 244   2/3/2023 0:00  154.264465  145.199997  111.790001  289.220001   \n",
       " 245   2/6/2023 0:00  151.498688  145.020004  110.750000  284.480011   \n",
       " 246   2/7/2023 0:00  154.414230  145.139999  111.989998  287.820007   \n",
       " 247   2/8/2023 0:00  151.688400  144.610001  110.199997  284.709992   \n",
       " 248   2/9/2023 0:00  150.639999  148.699997  108.070000  285.160004   \n",
       " \n",
       "            ADBE         ADI         ADP        AMAT         AMD  ...  \\\n",
       " 0    474.010010  151.118790  198.207108  130.648590  114.269997  ...   \n",
       " 1    479.500000  159.029022  200.209030  138.555252  121.470001  ...   \n",
       " 2    477.700012  165.211960  200.424912  139.664978  117.690002  ...   \n",
       " 3    457.709992  157.448944  196.715530  135.216232  112.370003  ...   \n",
       " 4    442.559998  157.380234  196.705719  132.124908  113.830002  ...   \n",
       " ..          ...         ...         ...         ...         ...  ...   \n",
       " 244  379.329987  178.820007  225.309998  119.980003   86.089996  ...   \n",
       " 245  375.230011  177.550003  223.470001  117.690002   83.680000  ...   \n",
       " 246  383.820007  181.020004  226.770004  120.519997   85.910004  ...   \n",
       " 247  378.359985  177.759995  223.979996  115.949997   84.690002  ...   \n",
       " 248  375.809998  178.520004  223.910004  116.080002   83.209999  ...   \n",
       " \n",
       "             TXN         UNH         UNP         UPS           V         VZ  \\\n",
       " 0    157.923248  468.401306  237.146606  207.134995  223.574204  50.322716   \n",
       " 1    161.519714  472.182922  243.765808  210.300232  226.034775  50.407738   \n",
       " 2    163.531769  473.979858  248.155762  208.412704  227.026916  50.445526   \n",
       " 3    160.042236  464.392670  245.398605  203.960052  222.849899  50.615566   \n",
       " 4    162.073746  461.894623  245.594147  204.125809  220.944962  50.851734   \n",
       " ..          ...         ...         ...         ...         ...        ...   \n",
       " 244  182.289993  472.019989  210.289993  191.660004  229.680145  41.509998   \n",
       " 245  181.000000  475.239990  208.960007  188.759995  228.991501  41.279999   \n",
       " 246  183.490005  476.880005  209.039993  188.289993  230.867828  40.549999   \n",
       " 247  176.500000  483.220001  207.139999  186.360001  229.750000  40.520000   \n",
       " 248  174.990005  485.730011  202.809998  184.750000  229.350006  39.810001   \n",
       " \n",
       "            WFC         WMT         XOM         ZTS  \n",
       " 0    56.416641  131.876984   76.808563  194.854614  \n",
       " 1    56.933510  132.290482   75.845779  196.173935  \n",
       " 2    56.699455  131.463486   76.195877  193.525360  \n",
       " 3    54.758766  136.730698   76.079193  191.521576  \n",
       " 4    54.251648  135.854462   75.233109  189.785614  \n",
       " ..         ...         ...         ...         ...  \n",
       " 244  47.580002  141.710007  111.919998  167.800003  \n",
       " 245  47.680000  140.679993  111.730003  164.929993  \n",
       " 246  48.130001  140.979996  114.919998  165.570007  \n",
       " 247  48.250000  140.220001  113.919998  162.070007  \n",
       " 248  47.570000  141.520004  114.349998  160.809998  \n",
       " \n",
       " [249 rows x 100 columns],\n",
       " array([[0.01010798],\n",
       "        [0.0127303 ],\n",
       "        [0.00987707],\n",
       "        [0.00956715],\n",
       "        [0.0086955 ],\n",
       "        [0.01218526],\n",
       "        [0.01139783],\n",
       "        [0.00805758],\n",
       "        [0.00712366],\n",
       "        [0.01193921],\n",
       "        [0.00995814],\n",
       "        [0.00045462],\n",
       "        [0.01178878],\n",
       "        [0.0124508 ],\n",
       "        [0.01103631],\n",
       "        [0.00863682],\n",
       "        [0.01409174],\n",
       "        [0.00993967],\n",
       "        [0.01281956],\n",
       "        [0.01101775],\n",
       "        [0.00867328],\n",
       "        [0.01253655],\n",
       "        [0.00850623],\n",
       "        [0.01475266],\n",
       "        [0.01158358],\n",
       "        [0.00883992],\n",
       "        [0.0088121 ],\n",
       "        [0.00989919],\n",
       "        [0.01519973],\n",
       "        [0.01274473],\n",
       "        [0.01032979],\n",
       "        [0.00842659],\n",
       "        [0.00582838],\n",
       "        [0.0090662 ],\n",
       "        [0.01385296],\n",
       "        [0.00789853],\n",
       "        [0.00044175],\n",
       "        [0.00043967],\n",
       "        [0.01149465],\n",
       "        [0.00985662],\n",
       "        [0.01060198],\n",
       "        [0.01160516],\n",
       "        [0.00577455],\n",
       "        [0.00922635],\n",
       "        [0.00932224],\n",
       "        [0.01120343],\n",
       "        [0.01039693],\n",
       "        [0.01124283],\n",
       "        [0.01192726],\n",
       "        [0.0162121 ],\n",
       "        [0.01468388],\n",
       "        [0.01013778],\n",
       "        [0.00834968],\n",
       "        [0.01157056],\n",
       "        [0.01176075],\n",
       "        [0.01093344],\n",
       "        [0.00899575],\n",
       "        [0.00679258],\n",
       "        [0.00731633],\n",
       "        [0.01055904],\n",
       "        [0.01518613],\n",
       "        [0.01157028],\n",
       "        [0.01006441],\n",
       "        [0.00717109],\n",
       "        [0.0102567 ],\n",
       "        [0.00838753],\n",
       "        [0.00961181],\n",
       "        [0.01018385],\n",
       "        [0.00981984],\n",
       "        [0.01152823],\n",
       "        [0.01139369],\n",
       "        [0.00912549],\n",
       "        [0.00998885],\n",
       "        [0.00977655],\n",
       "        [0.01144862],\n",
       "        [0.00845519],\n",
       "        [0.00517128],\n",
       "        [0.00800354],\n",
       "        [0.0123391 ],\n",
       "        [0.01226893],\n",
       "        [0.00966695],\n",
       "        [0.01009697],\n",
       "        [0.01162185],\n",
       "        [0.00807628],\n",
       "        [0.00826209],\n",
       "        [0.00911987],\n",
       "        [0.01317381],\n",
       "        [0.01118932],\n",
       "        [0.00239849],\n",
       "        [0.01093209],\n",
       "        [0.01236271],\n",
       "        [0.00961987],\n",
       "        [0.01047313],\n",
       "        [0.01247075],\n",
       "        [0.00865857],\n",
       "        [0.00952084],\n",
       "        [0.011297  ],\n",
       "        [0.01852082],\n",
       "        [0.00911602]]))"
      ]
     },
     "execution_count": 31,
     "metadata": {},
     "output_type": "execute_result"
    }
   ],
   "source": [
    "portfolio.Norm_price(portfolio_data,prices)"
   ]
  },
  {
   "cell_type": "code",
   "execution_count": 46,
   "metadata": {},
   "outputs": [
    {
     "data": {
      "text/plain": [
       "(294385.59081765, 4494.598976956561)"
      ]
     },
     "execution_count": 46,
     "metadata": {},
     "output_type": "execute_result"
    }
   ],
   "source": [
    "Var.Delta_Normal_VaR(portfolio_data,prices,portfolio_='B')"
   ]
  },
  {
   "cell_type": "code",
   "execution_count": 47,
   "metadata": {},
   "outputs": [
    {
     "data": {
      "text/plain": [
       "(270042.8305277,\n",
       " 5558.724403455835,\n",
       " 7472.847422317922,\n",
       " array([-3176.42659672,  4267.0962076 , -2043.80606089, ...,\n",
       "         2565.8864628 , -2684.00457213,  4466.49064126]))"
      ]
     },
     "execution_count": 47,
     "metadata": {},
     "output_type": "execute_result"
    }
   ],
   "source": [
    "Var.cal_historical(portfolio_data,prices,portfolio_='C')"
   ]
  },
  {
   "cell_type": "code",
   "execution_count": 48,
   "metadata": {},
   "outputs": [
    {
     "data": {
      "text/plain": [
       "(864378.48041924,\n",
       " 13114.194780530268,\n",
       " 16528.7485054694,\n",
       " array([ 8756.35263793,  8338.16697385, 14056.38395547, ...,\n",
       "         6063.02091451,  2779.10354471,  7578.41680861]))"
      ]
     },
     "execution_count": 48,
     "metadata": {},
     "output_type": "execute_result"
    }
   ],
   "source": [
    "Var.cal_monte_var(portfolio_data,prices,portfolio_='All')"
   ]
  },
  {
   "cell_type": "code",
   "execution_count": 49,
   "metadata": {},
   "outputs": [
    {
     "data": {
      "text/plain": [
       "(299950.05907389,\n",
       " 5534.604595804715,\n",
       " 7046.281935372848,\n",
       " array([4806.59277892, 2346.53571767, 3031.34018233, ..., 5020.37678353,\n",
       "         566.93544556, 1742.47551388]))"
      ]
     },
     "execution_count": 49,
     "metadata": {},
     "output_type": "execute_result"
    }
   ],
   "source": [
    "Var.cal_monte_var(portfolio_data,prices,portfolio_='A')"
   ]
  },
  {
   "cell_type": "code",
   "execution_count": 51,
   "metadata": {},
   "outputs": [
    {
     "data": {
      "text/plain": [
       "array([[1.55394452e-04, 2.09675264e-04, 2.34624899e-04, ...,\n",
       "        2.09103386e-04, 1.60199185e-04, 6.30934049e-05],\n",
       "       [2.09675264e-04, 4.20748823e-04, 3.20799332e-04, ...,\n",
       "        2.86271602e-04, 2.01037391e-04, 6.38158300e-05],\n",
       "       [2.34624899e-04, 3.20799332e-04, 4.99245299e-04, ...,\n",
       "        2.96873952e-04, 1.92310525e-04, 3.84827190e-05],\n",
       "       ...,\n",
       "       [2.09103386e-04, 2.86271602e-04, 2.96873952e-04, ...,\n",
       "        7.15582099e-04, 2.13164708e-04, 6.42681389e-05],\n",
       "       [1.60199185e-04, 2.01037391e-04, 1.92310525e-04, ...,\n",
       "        2.13164708e-04, 3.25325125e-04, 7.25508817e-05],\n",
       "       [6.30934049e-05, 6.38158300e-05, 3.84827190e-05, ...,\n",
       "        6.42681389e-05, 7.25508817e-05, 1.70524424e-04]])"
      ]
     },
     "execution_count": 51,
     "metadata": {},
     "output_type": "execute_result"
    }
   ],
   "source": [
    "a=covarience_matrix.exp_weighted_cov(returns)\n",
    "a"
   ]
  },
  {
   "cell_type": "code",
   "execution_count": 52,
   "metadata": {},
   "outputs": [
    {
     "data": {
      "text/plain": [
       "array([[-1.35591227e-02, -2.41758988e-02, -4.28753679e-02, ...,\n",
       "         4.17078059e-03, -2.34925962e-02,  2.28673771e-02],\n",
       "       [ 1.28033204e-02,  1.94995301e-02,  1.54929575e-02, ...,\n",
       "         4.51957145e-03,  1.86448296e-02, -2.05724880e-02],\n",
       "       [ 3.69827061e-02,  4.37409410e-02,  5.02338326e-02, ...,\n",
       "         7.74276485e-02,  4.08274337e-02,  2.78714159e-02],\n",
       "       ...,\n",
       "       [-6.59282344e-03, -9.55307269e-03, -2.29657314e-02, ...,\n",
       "         2.18072179e-02, -5.57316664e-03, -1.16606981e-02],\n",
       "       [ 6.13378683e-03,  9.67359526e-03,  1.59233511e-02, ...,\n",
       "        -1.16915921e-02,  2.49633131e-02,  5.12705155e-05],\n",
       "       [ 3.49158493e-03, -1.76184867e-02,  1.42747907e-02, ...,\n",
       "         3.23184052e-02,  1.63570470e-02,  1.66276271e-02]])"
      ]
     },
     "execution_count": 52,
     "metadata": {},
     "output_type": "execute_result"
    }
   ],
   "source": [
    "simulation.multivariate_normal_simulation(a,500)"
   ]
  },
  {
   "cell_type": "code",
   "execution_count": 4,
   "metadata": {},
   "outputs": [
    {
     "data": {
      "text/plain": [
       "(0.07983992004680988,\n",
       " 0.10066655405694472,\n",
       " array([-0.0030789 ,  0.00471974,  0.07212143, ..., -0.03461615,\n",
       "         0.00391462, -0.05429513]))"
      ]
     },
     "execution_count": 4,
     "metadata": {},
     "output_type": "execute_result"
    }
   ],
   "source": [
    "Var.ar1_var_es(data)"
   ]
  },
  {
   "cell_type": "code",
   "execution_count": 62,
   "metadata": {},
   "outputs": [
    {
     "data": {
      "text/plain": [
       "(0.07647602684516216,\n",
       " 0.11097768054565885,\n",
       " array([-0.01482358,  0.01397264, -0.02118115, ...,  0.05362281,\n",
       "         0.00820101,  0.05890264]))"
      ]
     },
     "execution_count": 62,
     "metadata": {},
     "output_type": "execute_result"
    }
   ],
   "source": [
    "Var.t_VaR_ES(data)"
   ]
  },
  {
   "cell_type": "code",
   "execution_count": 59,
   "metadata": {},
   "outputs": [
    {
     "name": "stderr",
     "output_type": "stream",
     "text": [
      "/Library/Frameworks/Python.framework/Versions/3.10/lib/python3.10/site-packages/numpy/core/fromnumeric.py:3462: FutureWarning: In a future version, DataFrame.mean(axis=None) will return a scalar mean over the entire DataFrame. To retain the old behavior, use 'frame.mean(axis=0)' or just 'frame.mean()'\n",
      "  return mean(axis=axis, dtype=dtype, out=out, **kwargs)\n"
     ]
    },
    {
     "data": {
      "text/plain": [
       "(0.07598069069686242,\n",
       " x    0.116777\n",
       " dtype: float64,\n",
       "             x\n",
       " 0   -0.002665\n",
       " 1   -0.045128\n",
       " 2    0.053635\n",
       " 3    0.010450\n",
       " 4   -0.016284\n",
       " ..        ...\n",
       " 495  0.009279\n",
       " 496 -0.001121\n",
       " 497  0.075188\n",
       " 498  0.038520\n",
       " 499 -0.033949\n",
       " \n",
       " [500 rows x 1 columns])"
      ]
     },
     "execution_count": 59,
     "metadata": {},
     "output_type": "execute_result"
    }
   ],
   "source": [
    "Var.calculate_var_hist(data)"
   ]
  },
  {
   "cell_type": "code",
   "execution_count": 5,
   "metadata": {},
   "outputs": [
    {
     "data": {
      "text/plain": [
       "(0.08837552594248277,\n",
       " 0.006156665945739791,\n",
       " array([ 0.02362946,  0.04123994, -0.10976854, ..., -0.01331471,\n",
       "         0.01198346,  0.0809735 ]))"
      ]
     },
     "execution_count": 5,
     "metadata": {},
     "output_type": "execute_result"
    }
   ],
   "source": [
    "Var.normal_weighted(data)"
   ]
  },
  {
   "cell_type": "code",
   "execution_count": 54,
   "metadata": {},
   "outputs": [
    {
     "name": "stderr",
     "output_type": "stream",
     "text": [
      "/Library/Frameworks/Python.framework/Versions/3.10/lib/python3.10/site-packages/numpy/core/fromnumeric.py:3462: FutureWarning: In a future version, DataFrame.mean(axis=None) will return a scalar mean over the entire DataFrame. To retain the old behavior, use 'frame.mean(axis=0)' or just 'frame.mean()'\n",
      "  return mean(axis=axis, dtype=dtype, out=out, **kwargs)\n"
     ]
    },
    {
     "data": {
      "text/plain": [
       "(0.07598069069686242,\n",
       " x    0.116777\n",
       " dtype: float64,\n",
       "             x\n",
       " 0   -0.002665\n",
       " 1   -0.045128\n",
       " 2    0.053635\n",
       " 3    0.010450\n",
       " 4   -0.016284\n",
       " ..        ...\n",
       " 495  0.009279\n",
       " 496 -0.001121\n",
       " 497  0.075188\n",
       " 498  0.038520\n",
       " 499 -0.033949\n",
       " \n",
       " [500 rows x 1 columns])"
      ]
     },
     "execution_count": 54,
     "metadata": {},
     "output_type": "execute_result"
    }
   ],
   "source": [
    "Var.calculate_var_hist(data)"
   ]
  },
  {
   "attachments": {},
   "cell_type": "markdown",
   "metadata": {},
   "source": [
    "### Probelm3\n",
    "Use your repository from #2.\n",
    "Using Portfolio.csv and DailyPrices.csv.  Assume the expected return on all stocks is 0.\n",
    "This file contains the stock holdings of 3 portfolios.  You own each of these portfolios.\n",
    "Fit a Generalized T model to each stock and calculate the VaR and ES of each portfolio as well as your\n",
    "total VaR and ES.  Compare the results from this to your VaR form Problem 3 from Week 4."
   ]
  },
  {
   "cell_type": "markdown",
   "metadata": {},
   "source": []
  },
  {
   "cell_type": "code",
   "execution_count": 55,
   "metadata": {},
   "outputs": [
    {
     "data": {
      "text/plain": [
       "['All', 'A', 'B', 'C']"
      ]
     },
     "execution_count": 55,
     "metadata": {},
     "output_type": "execute_result"
    }
   ],
   "source": [
    "# get portfolio type\n",
    "def get_type(portfolio_data):\n",
    "    portfolio_type=[]\n",
    "    portfolio_type.append(\"All\")\n",
    "    for po in portfolio_data[\"Portfolio\"]:\n",
    "        if po not in portfolio_type:\n",
    "            portfolio_type.append(po)\n",
    "    return portfolio_type\n",
    "\n",
    "portfolio_type = get_type(portfolio_data)\n",
    "portfolio_type"
   ]
  },
  {
   "cell_type": "code",
   "execution_count": 63,
   "metadata": {},
   "outputs": [],
   "source": [
    "mean = 0\n",
    "alpha = 0.05\n",
    "num_simulations = 10000"
   ]
  },
  {
   "cell_type": "code",
   "execution_count": 66,
   "metadata": {},
   "outputs": [],
   "source": [
    "def cal_po(portfolio_data,prices,pt):\n",
    "    \n",
    "    # PREPARE\n",
    "    params = []\n",
    "    ar_cdf = pd.DataFrame()\n",
    "    sim_cdf = pd.DataFrame()\n",
    "    sim_returns = pd.DataFrame()\n",
    "    \n",
    "    # GET PORFOLIO INFO\n",
    "    p, ap, h = portfolio.cal_porfolio_price(portfolio_data, prices, pt)\n",
    "    ar = portfolio.return_calculate(ap)\n",
    "    ar.drop('Date', axis=1, inplace=True)\n",
    "    nar = ar - ar.mean()\n",
    "    for s in nar.columns.tolist():\n",
    "        p = MLE.fit_t_distribution(nar[s])\n",
    "        params.append(p)\n",
    "        ar_cdf[s] = t.cdf(nar[s], df=p[0], loc=p[1], scale=p[2])\n",
    "    np.random.seed(1)\n",
    "    spearman_corr = ar_cdf.corr(method='spearman')\n",
    "    simu = simulation.multivariate_normal_simulation(spearman_corr, num_simulations, method='pca')\n",
    "    simu = pd.DataFrame(simu, columns=ar.columns)\n",
    "    for s in simu.columns.tolist():\n",
    "        sim_cdf[s] = norm.cdf(simu[s], loc=0, scale=1)\n",
    "    for n, s in enumerate(simu.columns.tolist()):\n",
    "        sim_returns[s] = t.ppf(sim_cdf[s], df=params[n][0], loc=params[n][1], scale=params[n][2])\n",
    "    ap.drop('Date', axis=1, inplace=True)\n",
    "    sim_prices = np.dot(sim_returns * ap.tail(1).values.reshape(ap.shape[1],), h)\n",
    "    \n",
    "    # calculate var and es\n",
    "    var_t = mean - np.quantile(sim_prices, alpha)\n",
    "    es_t = -np.mean(sim_prices[sim_prices <= -var_t])\n",
    "    \n",
    "    return var_t,es_t,sim_prices"
   ]
  },
  {
   "cell_type": "code",
   "execution_count": 67,
   "metadata": {},
   "outputs": [
    {
     "name": "stdout",
     "output_type": "stream",
     "text": [
      "Portfolio type All: VaR_T = 19820.96258156469, ES_T = 26273.29537620832\n"
     ]
    },
    {
     "name": "stderr",
     "output_type": "stream",
     "text": [
      "No artists with labels found to put in legend.  Note that artists whose label start with an underscore are ignored when legend() is called with no argument.\n"
     ]
    },
    {
     "data": {
      "image/png": "[encoded data removed]",
      "text/plain": [
       "<Figure size 640x480 with 1 Axes>"
      ]
     },
     "metadata": {},
     "output_type": "display_data"
    },
    {
     "name": "stdout",
     "output_type": "stream",
     "text": [
      "Portfolio type A: VaR_T = 7924.110067407117, ES_T = 10468.401212222092\n"
     ]
    },
    {
     "name": "stderr",
     "output_type": "stream",
     "text": [
      "No artists with labels found to put in legend.  Note that artists whose label start with an underscore are ignored when legend() is called with no argument.\n"
     ]
    },
    {
     "data": {
      "image/png": "[encoded data removed]",
      "text/plain": [
       "<Figure size 640x480 with 1 Axes>"
      ]
     },
     "metadata": {},
     "output_type": "display_data"
    },
    {
     "name": "stdout",
     "output_type": "stream",
     "text": [
      "Portfolio type B: VaR_T = 6693.189181940957, ES_T = 8795.589522813323\n"
     ]
    },
    {
     "name": "stderr",
     "output_type": "stream",
     "text": [
      "No artists with labels found to put in legend.  Note that artists whose label start with an underscore are ignored when legend() is called with no argument.\n"
     ]
    },
    {
     "data": {
      "image/png": "[encoded data removed]",
      "text/plain": [
       "<Figure size 640x480 with 1 Axes>"
      ]
     },
     "metadata": {},
     "output_type": "display_data"
    },
    {
     "name": "stdout",
     "output_type": "stream",
     "text": [
      "Portfolio type C: VaR_T = 5653.332593249789, ES_T = 7439.533033469491\n"
     ]
    },
    {
     "name": "stderr",
     "output_type": "stream",
     "text": [
      "No artists with labels found to put in legend.  Note that artists whose label start with an underscore are ignored when legend() is called with no argument.\n"
     ]
    },
    {
     "data": {
      "image/png": "[encoded data removed]",
      "text/plain": [
       "<Figure size 640x480 with 1 Axes>"
      ]
     },
     "metadata": {},
     "output_type": "display_data"
    }
   ],
   "source": [
    "for pt in portfolio_type:\n",
    "    var_t,es_t,sim_prices=cal_po(portfolio_data,prices,pt)\n",
    "    # Print results\n",
    "    print(f\"Portfolio type {pt}: VaR_T = {var_t}, ES_T = {es_t}\")\n",
    "    # plot results\n",
    "    sns.histplot(sim_prices, bins=80,alpha=0.5,kde=True)\n",
    "    plt.axvline(-var_t,color='red',linestyle='--')\n",
    "    plt.axvline(-es_t,color='b',linestyle='-')\n",
    "    plt.title('T {}'.format(pt))\n",
    "\n",
    "    plt.legend()\n",
    "    plt.show()"
   ]
  }
 ],
 "metadata": {
  "kernelspec": {
   "display_name": "Python 3",
   "language": "python",
   "name": "python3"
  },
  "language_info": {
   "codemirror_mode": {
    "name": "ipython",
    "version": 3
   },
   "file_extension": ".py",
   "mimetype": "text/x-python",
   "name": "python",
   "nbconvert_exporter": "python",
   "pygments_lexer": "ipython3",
   "version": "3.10.6"
  },
  "orig_nbformat": 4,
  "vscode": {
   "interpreter": {
    "hash": "aee8b7b246df8f9039afb4144a1f6fd8d2ca17a180786b69acc140d282b71a49"
   }
  }
 },
 "nbformat": 4,
 "nbformat_minor": 2
}
